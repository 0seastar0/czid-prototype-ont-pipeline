{
 "cells": [
  {
   "cell_type": "code",
   "execution_count": 5,
   "metadata": {},
   "outputs": [],
   "source": [
    "import pandas as pd\n",
    "import taxoniq # https://github.com/taxoniq/taxoniq"
   ]
  },
  {
   "cell_type": "code",
   "execution_count": null,
   "metadata": {},
   "outputs": [],
   "source": [
    "'''\n",
    "1. X read in the csv file\n",
    "2. X append human-readable taxon names\n",
    "3. X fix the weirdness of bases in the two columns (to get maximum of total_sequence_length and total_alignment_length)\n",
    "4. X get the proportion of *post-subsampled bases* that map to each taxid\n",
    "5. X get the percentage of *total bases* that map to each taxid (requires some proportion estimation)\n",
    "'''"
   ]
  },
  {
   "cell_type": "code",
   "execution_count": 60,
   "metadata": {},
   "outputs": [],
   "source": [
    "# set the input file names\n",
    "nt_hits_filepath = \"cov_spike_1/tallied_hits_nt.csv\"\n",
    "subsampled_base_count_filepath = \"cov_spike_1/subsampled_bases.count\"\n",
    "human_filter_base_count_filepath = \"cov_spike_1/human_filtered_bases.count\"\n",
    "input_base_count_filepath = \"cov_spike_1/validated_bases.count\""
   ]
  },
  {
   "cell_type": "code",
   "execution_count": 6,
   "metadata": {},
   "outputs": [
    {
     "data": {
      "text/html": [
       "<div>\n",
       "<style scoped>\n",
       "    .dataframe tbody tr th:only-of-type {\n",
       "        vertical-align: middle;\n",
       "    }\n",
       "\n",
       "    .dataframe tbody tr th {\n",
       "        vertical-align: top;\n",
       "    }\n",
       "\n",
       "    .dataframe thead th {\n",
       "        text-align: right;\n",
       "    }\n",
       "</style>\n",
       "<table border=\"1\" class=\"dataframe\">\n",
       "  <thead>\n",
       "    <tr style=\"text-align: right;\">\n",
       "      <th></th>\n",
       "      <th>taxid</th>\n",
       "      <th>level</th>\n",
       "      <th>total_sequence_length</th>\n",
       "      <th>total_alignment_length</th>\n",
       "    </tr>\n",
       "  </thead>\n",
       "  <tbody>\n",
       "    <tr>\n",
       "      <th>0</th>\n",
       "      <td>469</td>\n",
       "      <td>genus</td>\n",
       "      <td>0.0</td>\n",
       "      <td>51769</td>\n",
       "    </tr>\n",
       "    <tr>\n",
       "      <th>1</th>\n",
       "      <td>40214</td>\n",
       "      <td>species</td>\n",
       "      <td>0.0</td>\n",
       "      <td>45777</td>\n",
       "    </tr>\n",
       "    <tr>\n",
       "      <th>2</th>\n",
       "      <td>694002</td>\n",
       "      <td>genus</td>\n",
       "      <td>324332925.0</td>\n",
       "      <td>35665</td>\n",
       "    </tr>\n",
       "    <tr>\n",
       "      <th>3</th>\n",
       "      <td>694003</td>\n",
       "      <td>species</td>\n",
       "      <td>324332925.0</td>\n",
       "      <td>35665</td>\n",
       "    </tr>\n",
       "    <tr>\n",
       "      <th>4</th>\n",
       "      <td>562</td>\n",
       "      <td>species</td>\n",
       "      <td>0.0</td>\n",
       "      <td>12892</td>\n",
       "    </tr>\n",
       "  </tbody>\n",
       "</table>\n",
       "</div>"
      ],
      "text/plain": [
       "    taxid    level  total_sequence_length  total_alignment_length\n",
       "0     469    genus                    0.0                   51769\n",
       "1   40214  species                    0.0                   45777\n",
       "2  694002    genus            324332925.0                   35665\n",
       "3  694003  species            324332925.0                   35665\n",
       "4     562  species                    0.0                   12892"
      ]
     },
     "execution_count": 6,
     "metadata": {},
     "output_type": "execute_result"
    }
   ],
   "source": [
    "# read in nt hits data using pandas\n",
    "nt_hits_df = pd.read_csv(nt_hits_filepath)\n",
    "nt_hits_df.head()"
   ]
  },
  {
   "cell_type": "code",
   "execution_count": 7,
   "metadata": {},
   "outputs": [
    {
     "data": {
      "text/plain": [
       "'Homo sapiens'"
      ]
     },
     "execution_count": 7,
     "metadata": {},
     "output_type": "execute_result"
    }
   ],
   "source": [
    "# test taxoniq\n",
    "t = taxoniq.Taxon(9606)\n",
    "t.scientific_name"
   ]
  },
  {
   "cell_type": "code",
   "execution_count": 19,
   "metadata": {},
   "outputs": [
    {
     "name": "stdout",
     "output_type": "stream",
     "text": [
      "['Acinetobacter', 'Acinetobacter johnsonii', 'Betacoronavirus', 'Betacoronavirus 1', 'Escherichia coli', 'Escherichia', 'Tardiphaga', 'Cutibacterium acnes', 'Cutibacterium', 'Tardiphaga robiniae', 'Acinetobacter sp. NEB 394', 'Sphingomonas sp. NIC1', 'Sphingomonas', 'Macaca mulatta polyomavirus 1', 'Betapolyomavirus', 'Ancylobacter', 'Ancylobacter pratisalsi', 'Mastadenovirus', 'Human mastadenovirus C', 'Acinetobacter lwoffii', 'Tardiphaga sp. vice278']\n"
     ]
    },
    {
     "data": {
      "text/html": [
       "<div>\n",
       "<style scoped>\n",
       "    .dataframe tbody tr th:only-of-type {\n",
       "        vertical-align: middle;\n",
       "    }\n",
       "\n",
       "    .dataframe tbody tr th {\n",
       "        vertical-align: top;\n",
       "    }\n",
       "\n",
       "    .dataframe thead th {\n",
       "        text-align: right;\n",
       "    }\n",
       "</style>\n",
       "<table border=\"1\" class=\"dataframe\">\n",
       "  <thead>\n",
       "    <tr style=\"text-align: right;\">\n",
       "      <th></th>\n",
       "      <th>taxid</th>\n",
       "      <th>level</th>\n",
       "      <th>total_sequence_length</th>\n",
       "      <th>total_alignment_length</th>\n",
       "      <th>scientific_name</th>\n",
       "    </tr>\n",
       "  </thead>\n",
       "  <tbody>\n",
       "    <tr>\n",
       "      <th>0</th>\n",
       "      <td>469</td>\n",
       "      <td>genus</td>\n",
       "      <td>0.0</td>\n",
       "      <td>51769</td>\n",
       "      <td>Acinetobacter</td>\n",
       "    </tr>\n",
       "    <tr>\n",
       "      <th>1</th>\n",
       "      <td>40214</td>\n",
       "      <td>species</td>\n",
       "      <td>0.0</td>\n",
       "      <td>45777</td>\n",
       "      <td>Acinetobacter johnsonii</td>\n",
       "    </tr>\n",
       "    <tr>\n",
       "      <th>2</th>\n",
       "      <td>694002</td>\n",
       "      <td>genus</td>\n",
       "      <td>324332925.0</td>\n",
       "      <td>35665</td>\n",
       "      <td>Betacoronavirus</td>\n",
       "    </tr>\n",
       "    <tr>\n",
       "      <th>3</th>\n",
       "      <td>694003</td>\n",
       "      <td>species</td>\n",
       "      <td>324332925.0</td>\n",
       "      <td>35665</td>\n",
       "      <td>Betacoronavirus 1</td>\n",
       "    </tr>\n",
       "    <tr>\n",
       "      <th>4</th>\n",
       "      <td>562</td>\n",
       "      <td>species</td>\n",
       "      <td>0.0</td>\n",
       "      <td>12892</td>\n",
       "      <td>Escherichia coli</td>\n",
       "    </tr>\n",
       "  </tbody>\n",
       "</table>\n",
       "</div>"
      ],
      "text/plain": [
       "    taxid    level  total_sequence_length  total_alignment_length  \\\n",
       "0     469    genus                    0.0                   51769   \n",
       "1   40214  species                    0.0                   45777   \n",
       "2  694002    genus            324332925.0                   35665   \n",
       "3  694003  species            324332925.0                   35665   \n",
       "4     562  species                    0.0                   12892   \n",
       "\n",
       "           scientific_name  \n",
       "0            Acinetobacter  \n",
       "1  Acinetobacter johnsonii  \n",
       "2          Betacoronavirus  \n",
       "3        Betacoronavirus 1  \n",
       "4         Escherichia coli  "
      ]
     },
     "execution_count": 19,
     "metadata": {},
     "output_type": "execute_result"
    }
   ],
   "source": [
    "# Task #2 -- append human-readable taxon names using taxoniq\n",
    "\n",
    "# option #1 - full FOR loop\n",
    "scientific_name = []\n",
    "for i in nt_hits_df[\"taxid\"]:\n",
    "    t = taxoniq.Taxon(i)\n",
    "    scientific_name.append(t.scientific_name)\n",
    "print(scientific_name)    \n",
    "nt_hits_df[\"scientific_name\"] = scientific_name\n",
    "\n",
    "# option #2 - using python list comprehension (similar to lapply in R)\n",
    "nt_hits_df[\"scientific_name\"] = [taxoniq.Taxon(i).scientific_name for i in nt_hits_df[\"taxid\"]]"
   ]
  },
  {
   "cell_type": "code",
   "execution_count": 62,
   "metadata": {},
   "outputs": [
    {
     "data": {
      "text/html": [
       "<div>\n",
       "<style scoped>\n",
       "    .dataframe tbody tr th:only-of-type {\n",
       "        vertical-align: middle;\n",
       "    }\n",
       "\n",
       "    .dataframe tbody tr th {\n",
       "        vertical-align: top;\n",
       "    }\n",
       "\n",
       "    .dataframe thead th {\n",
       "        text-align: right;\n",
       "    }\n",
       "</style>\n",
       "<table border=\"1\" class=\"dataframe\">\n",
       "  <thead>\n",
       "    <tr style=\"text-align: right;\">\n",
       "      <th></th>\n",
       "      <th>taxid</th>\n",
       "      <th>level</th>\n",
       "      <th>total_sequence_length</th>\n",
       "      <th>total_alignment_length</th>\n",
       "      <th>scientific_name</th>\n",
       "      <th>total_bp</th>\n",
       "      <th>proportion_of_subsampled</th>\n",
       "      <th>total_bp_adjusted</th>\n",
       "      <th>proportion_total_bp_adjusted</th>\n",
       "    </tr>\n",
       "  </thead>\n",
       "  <tbody>\n",
       "    <tr>\n",
       "      <th>0</th>\n",
       "      <td>469</td>\n",
       "      <td>genus</td>\n",
       "      <td>0.0</td>\n",
       "      <td>51769</td>\n",
       "      <td>Acinetobacter</td>\n",
       "      <td>51769.0</td>\n",
       "      <td>0.000158</td>\n",
       "      <td>9.502997e+05</td>\n",
       "      <td>0.000056</td>\n",
       "    </tr>\n",
       "    <tr>\n",
       "      <th>1</th>\n",
       "      <td>40214</td>\n",
       "      <td>species</td>\n",
       "      <td>0.0</td>\n",
       "      <td>45777</td>\n",
       "      <td>Acinetobacter johnsonii</td>\n",
       "      <td>45777.0</td>\n",
       "      <td>0.000139</td>\n",
       "      <td>8.403073e+05</td>\n",
       "      <td>0.000050</td>\n",
       "    </tr>\n",
       "    <tr>\n",
       "      <th>2</th>\n",
       "      <td>694002</td>\n",
       "      <td>genus</td>\n",
       "      <td>324332925.0</td>\n",
       "      <td>35665</td>\n",
       "      <td>Betacoronavirus</td>\n",
       "      <td>324332925.0</td>\n",
       "      <td>0.987924</td>\n",
       "      <td>5.953630e+09</td>\n",
       "      <td>0.351513</td>\n",
       "    </tr>\n",
       "    <tr>\n",
       "      <th>3</th>\n",
       "      <td>694003</td>\n",
       "      <td>species</td>\n",
       "      <td>324332925.0</td>\n",
       "      <td>35665</td>\n",
       "      <td>Betacoronavirus 1</td>\n",
       "      <td>324332925.0</td>\n",
       "      <td>0.987924</td>\n",
       "      <td>5.953630e+09</td>\n",
       "      <td>0.351513</td>\n",
       "    </tr>\n",
       "    <tr>\n",
       "      <th>4</th>\n",
       "      <td>562</td>\n",
       "      <td>species</td>\n",
       "      <td>0.0</td>\n",
       "      <td>12892</td>\n",
       "      <td>Escherichia coli</td>\n",
       "      <td>12892.0</td>\n",
       "      <td>0.000039</td>\n",
       "      <td>2.366525e+05</td>\n",
       "      <td>0.000014</td>\n",
       "    </tr>\n",
       "  </tbody>\n",
       "</table>\n",
       "</div>"
      ],
      "text/plain": [
       "    taxid    level  total_sequence_length  total_alignment_length  \\\n",
       "0     469    genus                    0.0                   51769   \n",
       "1   40214  species                    0.0                   45777   \n",
       "2  694002    genus            324332925.0                   35665   \n",
       "3  694003  species            324332925.0                   35665   \n",
       "4     562  species                    0.0                   12892   \n",
       "\n",
       "           scientific_name     total_bp  proportion_of_subsampled  \\\n",
       "0            Acinetobacter      51769.0                  0.000158   \n",
       "1  Acinetobacter johnsonii      45777.0                  0.000139   \n",
       "2          Betacoronavirus  324332925.0                  0.987924   \n",
       "3        Betacoronavirus 1  324332925.0                  0.987924   \n",
       "4         Escherichia coli      12892.0                  0.000039   \n",
       "\n",
       "   total_bp_adjusted  proportion_total_bp_adjusted  \n",
       "0       9.502997e+05                      0.000056  \n",
       "1       8.403073e+05                      0.000050  \n",
       "2       5.953630e+09                      0.351513  \n",
       "3       5.953630e+09                      0.351513  \n",
       "4       2.366525e+05                      0.000014  "
      ]
     },
     "execution_count": 62,
     "metadata": {},
     "output_type": "execute_result"
    }
   ],
   "source": [
    "nt_hits_df.head()"
   ]
  },
  {
   "cell_type": "code",
   "execution_count": 21,
   "metadata": {},
   "outputs": [],
   "source": [
    "# Task #3 -- fix the weirdness of bases in the two columns \n",
    "#            (get maximum of total_sequence_length and total_alignment_length)\n",
    "nt_hits_df[\"total_bp\"] = nt_hits_df[[\"total_sequence_length\", \"total_alignment_length\"]].max(axis=1)"
   ]
  },
  {
   "cell_type": "code",
   "execution_count": 37,
   "metadata": {},
   "outputs": [
    {
     "data": {
      "text/plain": [
       "int"
      ]
     },
     "execution_count": 37,
     "metadata": {},
     "output_type": "execute_result"
    }
   ],
   "source": [
    "# Task #4 -- get the proportion of *post-subsampled bases* that map to each taxid\n",
    "subsampled_count = int(open(subsampled_base_count_filepath, 'r').read())\n",
    "print(subsampled_count)\n",
    "\n",
    "# NOTE: this is the proportion of non-host reads\n",
    "nt_hits_df[\"proportion_of_subsampled\"] = nt_hits_df[\"total_bp\"].divide(subsampled_count)"
   ]
  },
  {
   "cell_type": "code",
   "execution_count": null,
   "metadata": {},
   "outputs": [],
   "source": [
    "# Logic for Task #5 -- brainstorming how we need to compute the % of total bp\n",
    "'''\n",
    "scaling-factor = bp-before-subsampling / bp-after-subsampling = 1000000/500000 = 2 \n",
    "taxid-count = 10000 bp to sars-cov-2\n",
    "non-subsampled-taxid-bp-count = scaling-factor * taxid-count\n",
    "'''"
   ]
  },
  {
   "cell_type": "code",
   "execution_count": 56,
   "metadata": {},
   "outputs": [
    {
     "name": "stdout",
     "output_type": "stream",
     "text": [
      "6026403345\n",
      "18.356539160107776\n"
     ]
    }
   ],
   "source": [
    "# Task #5 -- get the percentage of *total bases* that map to each taxid (requires some proportion estimation)\n",
    "\n",
    "# read in the human_filter_count (because this is the step right before subsampling)\n",
    "human_filter_count = int(open(human_filter_base_count_filepath, 'r').read())\n",
    "print(human_filter_count)\n",
    "\n",
    "scaling_factor = human_filter_count / subsampled_count\n",
    "print(scaling_factor)\n",
    "\n",
    "# compute scaling-factor adjusted bp counts\n",
    "nt_hits_df[\"total_bp_adjusted\"] = nt_hits_df[\"total_bp\"].multiply(scaling_factor)\n",
    "\n",
    "# read in the total initial bp (from validate_input step)\n",
    "# NOTE: KK realized that this is the incorrect number! we actually need to separately get the\n",
    "#       total input bp. I pinged Todd about this here: https://czi-sci.slack.com/archives/C03VBBX15UY/p1666213389472059\n",
    "#       but we can generate this offline for the samples you've already run\n",
    "total_initial_bp = int(open(input_base_count_filepath, 'r').read())\n",
    "print(total_initial_bp)\n",
    "\n",
    "# NOTE: this is proportion of total reads\n",
    "nt_hits_df[\"proportion_total_bp_adjusted\"] = nt_hits_df[\"total_bp_adjusted\"].divide(total_initial_bp)"
   ]
  },
  {
   "cell_type": "code",
   "execution_count": 49,
   "metadata": {},
   "outputs": [],
   "source": [
    "# separate out the dataframes into genus and species level and write to output csv\n",
    "\n",
    "genus_nt_hits = nt_hits_df[nt_hits_df.level == \"genus\"]\n",
    "genus_nt_hits.to_csv(\"genus_nt_hits.csv\")\n",
    "\n",
    "species_nt_hits = nt_hits_df[nt_hits_df.level == \"species\"]\n",
    "species_nt_hits.to_csv(\"species_nt_hits.csv\")"
   ]
  },
  {
   "cell_type": "code",
   "execution_count": null,
   "metadata": {},
   "outputs": [],
   "source": []
  }
 ],
 "metadata": {
  "kernelspec": {
   "display_name": "Python 3",
   "language": "python",
   "name": "python3"
  },
  "language_info": {
   "codemirror_mode": {
    "name": "ipython",
    "version": 3
   },
   "file_extension": ".py",
   "mimetype": "text/x-python",
   "name": "python",
   "nbconvert_exporter": "python",
   "pygments_lexer": "ipython3",
   "version": "3.8.5"
  }
 },
 "nbformat": 4,
 "nbformat_minor": 4
}
